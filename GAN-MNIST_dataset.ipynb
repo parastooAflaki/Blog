{
  "nbformat": 4,
  "nbformat_minor": 0,
  "metadata": {
    "colab": {
      "name": "GAN.ipynb",
      "provenance": [],
      "authorship_tag": "ABX9TyPJAB/Y7sMWKF7OMZVnyYeI",
      "include_colab_link": true
    },
    "kernelspec": {
      "name": "python3",
      "display_name": "Python 3"
    }
  },
  "cells": [
    {
      "cell_type": "markdown",
      "metadata": {
        "id": "view-in-github",
        "colab_type": "text"
      },
      "source": [
        "<a href=\"https://colab.research.google.com/github/parastooAflaki/Blog/blob/master/GAN-MNIST_dataset.ipynb\" target=\"_parent\"><img src=\"https://colab.research.google.com/assets/colab-badge.svg\" alt=\"Open In Colab\"/></a>"
      ]
    },
    {
      "cell_type": "markdown",
      "metadata": {
        "id": "smISy1AoAS_Z",
        "colab_type": "text"
      },
      "source": [
        "TensorFlow's ***eager*** ***execution*** is an imperative programming environment that evaluates operations immediately, without building graphs: operations return concrete values instead of constructing a computational graph to run later.\n",
        "\n",
        "debug note: if we're using  tensorflow 2, its enabled by defaul. otherwise to use eager execution we must use *tf.enable_eager_execution()* right after implementing tensorflow.\n",
        "debuge note:\n",
        "restarting kernel if exception hanppens!"
      ]
    },
    {
      "cell_type": "code",
      "metadata": {
        "id": "LKeponSjymA5",
        "colab_type": "code",
        "outputId": "376e81a6-3330-4924-feae-0ee650cb2dab",
        "colab": {
          "base_uri": "https://localhost:8080/",
          "height": 83
        }
      },
      "source": [
        "import tensorflow as tf\n",
        "import numpy as np\n",
        "import matplotlib.pyplot as plt\n",
        "import keras\n",
        "tf.enable_eager_execution()"
      ],
      "execution_count": 0,
      "outputs": [
        {
          "output_type": "display_data",
          "data": {
            "text/html": [
              "<p style=\"color: red;\">\n",
              "The default version of TensorFlow in Colab will soon switch to TensorFlow 2.x.<br>\n",
              "We recommend you <a href=\"https://www.tensorflow.org/guide/migrate\" target=\"_blank\">upgrade</a> now \n",
              "or ensure your notebook will continue to use TensorFlow 1.x via the <code>%tensorflow_version 1.x</code> magic:\n",
              "<a href=\"https://colab.research.google.com/notebooks/tensorflow_version.ipynb\" target=\"_blank\">more info</a>.</p>\n"
            ],
            "text/plain": [
              "<IPython.core.display.HTML object>"
            ]
          },
          "metadata": {
            "tags": []
          }
        },
        {
          "output_type": "stream",
          "text": [
            "Using TensorFlow backend.\n"
          ],
          "name": "stderr"
        }
      ]
    },
    {
      "cell_type": "code",
      "metadata": {
        "id": "bgWQpqPAysPg",
        "colab_type": "code",
        "colab": {}
      },
      "source": [
        "BATCH_SIZE = 256\n",
        "BUFFER_SIZE = 60000\n",
        "EPOCHES = 300\n",
        "OUTPUT_DIR = \"img\" # The output directory where the images of the generator a stored during training"
      ],
      "execution_count": 0,
      "outputs": []
    },
    {
      "cell_type": "markdown",
      "metadata": {
        "id": "JApREzYJzghq",
        "colab_type": "text"
      },
      "source": [
        "Now we’ll load the MNIST dataset directly from TensorFlow"
      ]
    },
    {
      "cell_type": "code",
      "metadata": {
        "colab_type": "code",
        "id": "5182k5-Azcgx",
        "colab": {}
      },
      "source": [
        "mnist = keras.datasets.mnist"
      ],
      "execution_count": 0,
      "outputs": []
    },
    {
      "cell_type": "code",
      "metadata": {
        "id": "FxZeb0AMzCBy",
        "colab_type": "code",
        "outputId": "4249be21-952b-49f1-e0b7-2f693591ff67",
        "colab": {
          "base_uri": "https://localhost:8080/",
          "height": 35
        }
      },
      "source": [
        "(X_train,Y_train) , (X_test,Y_test ) = mnist.load_data()\n",
        "X_train.shape"
      ],
      "execution_count": 0,
      "outputs": [
        {
          "output_type": "execute_result",
          "data": {
            "text/plain": [
              "(60000, 28, 28)"
            ]
          },
          "metadata": {
            "tags": []
          },
          "execution_count": 34
        }
      ]
    },
    {
      "cell_type": "markdown",
      "metadata": {
        "id": "NO6agLT1z8OD",
        "colab_type": "text"
      },
      "source": [
        "we have 60.000 images in total with a height and width of 28 pixels"
      ]
    },
    {
      "cell_type": "code",
      "metadata": {
        "id": "0r_iZwMfzfLb",
        "colab_type": "code",
        "outputId": "2e15a86a-c4fb-4bf6-a43c-727d889b5c70",
        "colab": {
          "base_uri": "https://localhost:8080/",
          "height": 283
        }
      },
      "source": [
        "plt.imshow(X_train[4], cmap = \"gray\")"
      ],
      "execution_count": 0,
      "outputs": [
        {
          "output_type": "execute_result",
          "data": {
            "text/plain": [
              "<matplotlib.image.AxesImage at 0x7f5a3b72db38>"
            ]
          },
          "metadata": {
            "tags": []
          },
          "execution_count": 35
        },
        {
          "output_type": "display_data",
          "data": {
            "image/png": "[encoded data removed]",
            "text/plain": [
              "<Figure size 432x288 with 1 Axes>"
            ]
          },
          "metadata": {
            "tags": []
          }
        }
      ]
    },
    {
      "cell_type": "code",
      "metadata": {
        "id": "axdvYYQ1zSY5",
        "colab_type": "code",
        "outputId": "b64b1ea5-aa46-426a-c330-008bdbae4a62",
        "colab": {
          "base_uri": "https://localhost:8080/",
          "height": 91
        }
      },
      "source": [
        "# using tf.data.Dataset.from_tensor_slices() method \n",
        "X_train.reshape(X_train.shape[0] , 28 *28)\n",
        "gfg = tf.data.Dataset.from_tensor_slices([[1,2,3,4],[12,8,3,9],[77,65,4,13]]).shuffle(BUFFER_SIZE).batch(2) \n",
        "for ele in gfg:\n",
        "    print(ele.numpy)"
      ],
      "execution_count": 0,
      "outputs": [
        {
          "output_type": "stream",
          "text": [
            "<bound method _EagerTensorBase.numpy of <tf.Tensor: id=27123, shape=(2, 4), dtype=int32, numpy=\n",
            "array([[77, 65,  4, 13],\n",
            "       [ 1,  2,  3,  4]], dtype=int32)>>\n",
            "<bound method _EagerTensorBase.numpy of <tf.Tensor: id=27124, shape=(1, 4), dtype=int32, numpy=array([[12,  8,  3,  9]], dtype=int32)>>\n"
          ],
          "name": "stdout"
        }
      ]
    },
    {
      "cell_type": "code",
      "metadata": {
        "id": "_sIvJ07E1kju",
        "colab_type": "code",
        "colab": {}
      },
      "source": [
        "# using tf.data.Dataset.from_tensor_slices() method \n",
        "X_train = X_train.astype(\"float32\")\n",
        "X_train = (X_train - 127.5) / 127.5\n",
        "X_train.reshape(X_train.shape[0] , 28 *28)\n",
        "gfg = tf.data.Dataset.from_tensor_slices(X_train).shuffle(BUFFER_SIZE).batch(BATCH_SIZE) \n"
      ],
      "execution_count": 0,
      "outputs": []
    },
    {
      "cell_type": "code",
      "metadata": {
        "id": "8ZWgdwUiDSB0",
        "colab_type": "code",
        "colab": {}
      },
      "source": [
        ""
      ],
      "execution_count": 0,
      "outputs": []
    }
  ]
}